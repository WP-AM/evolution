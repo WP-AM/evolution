{
 "cells": [
  {
   "cell_type": "markdown",
   "metadata": {
    "slideshow": {
     "slide_type": "slide"
    }
   },
   "source": [
    "<img src=\"../imgs/logo.png\" width=\"20%\" align=\"right\" style=\"margin:0px 20px\">\n",
    "\n",
    "\n",
    "# Evolutionary Computation\n",
    "\n",
    "## 5.2 CMA-ES\n",
    "\n",
    "<a rel=\"license\" href=\"http://creativecommons.org/licenses/by-sa/4.0/\"><img alt=\"Creative Commons License\" align=\"left\" src=\"https://i.creativecommons.org/l/by-sa/4.0/80x15.png\" /></a>&nbsp;| Dennis G. Wilson | <a href=\"https://d9w.github.io/evolution/\">https://d9w.github.io/evolution/</a>"
   ]
  },
  {
   "cell_type": "markdown",
   "metadata": {
    "slideshow": {
     "slide_type": "slide"
    }
   },
   "source": [
    "# CMA-ES\n",
    "\n",
    "In this section, we'll discuss the Covariance Matrix Adaptation Evolutionary Strategy, or CMA-ES [1, 2]. This is one of the most well-known evolutionary algorithms in general and is a state-of-the-art algorithm for continuous optimization. The strength of this method is that it adapts the distribution it uses to generate the next population based on the current distribution of individuals. In the previous section, we were limited to a Normal distribution with a fixed $\\sigma$. The adaptive distribution of CMA-ES means it will cross search spaces faster and narrow in more exactly on optimal points.\n",
    "\n",
    "[1] Hansen, Nikolaus, and Andreas Ostermeier. \"Adapting arbitrary normal mutation distributions in evolution strategies: The covariance matrix adaptation.\" Proceedings of IEEE international conference on evolutionary computation. IEEE, 1996.\n",
    "\n",
    "[2] Hansen, Nikolaus, and Andreas Ostermeier. \"Completely derandomized self-adaptation in evolution strategies.\" Evolutionary computation 9.2 (2001): 159-195."
   ]
  },
  {
   "cell_type": "markdown",
   "metadata": {
    "slideshow": {
     "slide_type": "slide"
    }
   },
   "source": [
    "<img src=\"../imgs/cmaes.png\" width=\"60%\" height=\"auto\">"
   ]
  },
  {
   "cell_type": "markdown",
   "metadata": {
    "slideshow": {
     "slide_type": "slide"
    }
   },
   "source": [
    "Let's go through a simplified version of the algorithm from [3]. There are improvements to CMA-ES beyond this basic framework, but that's beyond the scope of today. [4] provides a good review of different CMA-ES modifications.\n",
    "\n",
    "[3] Hans-Georg Beyer (2007) Evolution strategies. Scholarpedia, 2(8):1965.\n",
    "\n",
    "[4] Hansen, Nikolaus. \"The CMA evolution strategy: a comparing review.\" Towards a new evolutionary computation. Springer, Berlin, Heidelberg, 2006. 75-102."
   ]
  },
  {
   "cell_type": "markdown",
   "metadata": {
    "slideshow": {
     "slide_type": "slide"
    }
   },
   "source": [
    "We'll start by creating a random individual $\\mathbf{y}$ which will be our first expert. We also create a diagonal covariance matrix $\\mathbf{C}$."
   ]
  },
  {
   "cell_type": "markdown",
   "metadata": {
    "slideshow": {
     "slide_type": "fragment"
    }
   },
   "source": [
    "$\\mbox{(L1):} \\quad \n",
    "  \\forall l=1, \\ldots, \\lambda : \\;\\;\n",
    "  \\begin{cases}\n",
    "   & \\mathbf{w}_l \n",
    "          \\leftarrow \\sigma \\sqrt{ \\mathbf{C} } \\,\n",
    "          \\mathbf{N}_l(\\mathbf{0}, \\mathbf{1}),\\\\[2mm]\n",
    "   & \\mathbf{y}_l \\leftarrow \\mathbf{y}  + \\mathbf{w}_l, \\\\[2mm]\n",
    "   & F_l \\leftarrow F(\\mathbf{y}_l),\n",
    "  \\end{cases}$"
   ]
  },
  {
   "cell_type": "markdown",
   "metadata": {
    "slideshow": {
     "slide_type": "fragment"
    }
   },
   "source": [
    "In the first step, (L1), $\\lambda$ offspring $\\mathbf{y}_l$ are created by transforming standard normally distributed random vectors using a transformation matrix $\\sqrt{\\mathbf{C}}$ which is given by Cholesky decomposition of the covariance matrix $\\mathbf{C}$ and the global step size factor $\\sigma$. We also evaluate every individual, creating $F$."
   ]
  },
  {
   "cell_type": "markdown",
   "metadata": {
    "slideshow": {
     "slide_type": "fragment"
    }
   },
   "source": [
    "$\\mbox{(L2):} \\quad \n",
    "      \\mathbf{y} \\leftarrow \\mathbf{y} + \\langle \\mathbf{w} \\rangle$"
   ]
  },
  {
   "cell_type": "markdown",
   "metadata": {
    "slideshow": {
     "slide_type": "fragment"
    }
   },
   "source": [
    "In (L2) the best $\\mu$ mutations are recombined forming the recombinant $\\mathbf{y}$ (center of mass individual) for the next generation. "
   ]
  },
  {
   "cell_type": "markdown",
   "metadata": {
    "slideshow": {
     "slide_type": "slide"
    }
   },
   "source": [
    "$\\mbox{(L3):} \\quad \n",
    "            \\mathbf{s} \\leftarrow \\left(1-\\frac{1}{\\tau}\\right)\\mathbf{s}\n",
    "          + \\sqrt{\\frac{\\mu}{\\tau} \\left(2-\\frac{1}{\\tau}\\right)} \\,\n",
    "            \\frac{\\langle \\mathbf{w} \\rangle}{\\sigma}$"
   ]
  },
  {
   "cell_type": "markdown",
   "metadata": {
    "slideshow": {
     "slide_type": "fragment"
    }
   },
   "source": [
    "Vector $\\langle \\mathbf{w} \\rangle$ combines individuals from two consecutive generations so $\\langle \\mathbf{w} \\rangle/\\sigma$ represents the tendency of evolution in the search space. In (L3), this information is cumulated in the $\\mathbf{s}$ vector, which exponentially decays with the time constant $\\tau$. A good default for this is $\\tau=\\sqrt{n}$."
   ]
  },
  {
   "cell_type": "markdown",
   "metadata": {
    "slideshow": {
     "slide_type": "fragment"
    }
   },
   "source": [
    "$\\mbox{(L4):} \\quad \n",
    "      \\mathbf{C} \\leftarrow \n",
    "      \\left(1-\\frac{1}{\\tau_{\\mathrm{c}}}\\right)\\mathbf{C}\n",
    "              + \\frac{1}{\\tau_{\\mathrm{c}}} \\mathbf{s} \\mathbf{s}^T$"
   ]
  },
  {
   "cell_type": "markdown",
   "metadata": {
    "slideshow": {
     "slide_type": "fragment"
    }
   },
   "source": [
    "In (L4), the direction vector $\\mathbf{s}$ is used to update the covariance matrix $\\mathbf{C}$ with time constant $\\tau_{\\mathrm{c}} \\propto n^2$"
   ]
  },
  {
   "cell_type": "markdown",
   "metadata": {
    "slideshow": {
     "slide_type": "slide"
    }
   },
   "source": [
    "$\\mbox{(L5):} \\quad  \n",
    "       \\mathbf{s}_\\sigma\n",
    "       \\leftarrow \\left(1-\\frac{1}{\\tau_\\sigma}\\right) \\mathbf{s}_\\sigma\n",
    "                  + \\sqrt{\\frac{\\mu}{\\tau_\\sigma}\n",
    "                    \\left(2-\\frac{1}{\\tau_\\sigma}\\right)} \\,\n",
    "                      \\langle \\mathbf{N}(\\mathbf{0}, \\mathbf{1}) \\rangle$"
   ]
  },
  {
   "cell_type": "markdown",
   "metadata": {
    "slideshow": {
     "slide_type": "slide"
    }
   },
   "source": [
    "$\\mbox{(L6):} \\quad  \n",
    "      \\sigma \\leftarrow \\sigma\\exp\\left[\n",
    "                        \\frac{\\| \\mathbf{s}_{\\sigma} \\|^2 - n}\n",
    "                                   {2 n \\sqrt{n} }\n",
    "                                        \\right]$"
   ]
  },
  {
   "cell_type": "markdown",
   "metadata": {
    "slideshow": {
     "slide_type": "fragment"
    }
   },
   "source": [
    "The distribution standard deviation $\\sigma$ is then calculated in (L5) and (L6) using the cumulated step size adaptation (CSA) technique with time constant $\\tau_\\sigma = \\sqrt{n}$ (initially $\\mathbf{s}_\\sigma = \\mathbf{0}$). $\\langle \\mathbf{N}(\\mathbf{0}, \\mathbf{1}) \\rangle$ is the distribution we calculated in (L1). "
   ]
  },
  {
   "cell_type": "markdown",
   "metadata": {
    "slideshow": {
     "slide_type": "slide"
    }
   },
   "source": [
    "So instead of simply using a Normal distribution to create the next generation, CMA-ES transforms a normal distribution by the covariance matrix $\\mathbf{C}$. It also moves at self-adjusting $\\sigma$. This makes its movement around the search space much more effective, as it is informed by the shape of the search space given through the fitness values $F$."
   ]
  },
  {
   "cell_type": "markdown",
   "metadata": {
    "slideshow": {
     "slide_type": "slide"
    }
   },
   "source": [
    "<img src=\"../imgs/cmaes_steps.png\" width=\"80%\" height=\"auto\">"
   ]
  },
  {
   "cell_type": "markdown",
   "metadata": {
    "slideshow": {
     "slide_type": "fragment"
    }
   },
   "source": [
    "Let's see an example of that."
   ]
  },
  {
   "cell_type": "code",
   "execution_count": 1,
   "metadata": {
    "slideshow": {
     "slide_type": "slide"
    }
   },
   "outputs": [],
   "source": [
    "using Random\n",
    "using LinearAlgebra\n",
    "using Statistics\n",
    "using Plots"
   ]
  },
  {
   "cell_type": "code",
   "execution_count": 2,
   "metadata": {
    "slideshow": {
     "slide_type": "fragment"
    }
   },
   "outputs": [
    {
     "data": {
      "text/plain": [
       "sphere (generic function with 1 method)"
      ]
     },
     "execution_count": 2,
     "metadata": {},
     "output_type": "execute_result"
    }
   ],
   "source": [
    "solution = [3.5, -0.2]\n",
    "sphere(x::Array{Float64}) = sum((x .- solution).^2)\n",
    "himmelblau(x::Array{Float64}) = (x[1]^2 + x[2] - 11)^2 + (x[1] + x[2]^2 - 7)^2\n",
    "styblinski_tang(x::Array{Float64}) = sum(x.^4 .- 16 .* x.^2 .+ 5 .* x) / 2.0\n",
    "rastrigin(x::Array{Float64}) = 10.0 * length(x) .+ sum((x .- solution).^2 .- 10 .* cos.(2*pi.*(x .- solution)))\n",
    "objective = sphere"
   ]
  },
  {
   "cell_type": "markdown",
   "metadata": {
    "slideshow": {
     "slide_type": "slide"
    }
   },
   "source": [
    "As with last time, we'll optimize over 2 continuous variables. We'll set default values of the time constants based on $N$. These are recommended values for CMA-ES [5]\n",
    "\n",
    "[5] Hansen, Nikolaus, Sibylle D. Müller, and Petros Koumoutsakos. \"Reducing the time complexity of the derandomized evolution strategy with covariance matrix adaptation (CMA-ES).\" Evolutionary computation 11.1 (2003): 1-18."
   ]
  },
  {
   "cell_type": "code",
   "execution_count": 10,
   "metadata": {
    "slideshow": {
     "slide_type": "fragment"
    }
   },
   "outputs": [],
   "source": [
    "N = 2 # dimension\n",
    "μ = 5 # λ / 2 population which inform the next generations\n",
    "λ = 10 # 4 + 3 log (N) population size\n",
    "τ = sqrt(N)\n",
    "τ_c = N^2\n",
    "τ_σ = sqrt(N);"
   ]
  },
  {
   "cell_type": "markdown",
   "metadata": {
    "slideshow": {
     "slide_type": "slide"
    }
   },
   "source": [
    "Now let's make our random expert and create placeholder fitness and offspring vectors."
   ]
  },
  {
   "cell_type": "code",
   "execution_count": 11,
   "metadata": {
    "slideshow": {
     "slide_type": "fragment"
    }
   },
   "outputs": [],
   "source": [
    "y = randn(N) # first expert\n",
    "offspring = Array{Array{Float64}}(undef, λ)\n",
    "F = Inf .* ones(λ); # fitness vector"
   ]
  },
  {
   "cell_type": "markdown",
   "metadata": {
    "slideshow": {
     "slide_type": "fragment"
    }
   },
   "source": [
    "Finally, we need to initialize $\\mathbf{C}, \\mathbf{N}, \\mathbf{w}, \\mathbf{s}, \\mathbf{s_\\sigma},$ and $\\mathbf{\\sigma}$."
   ]
  },
  {
   "cell_type": "code",
   "execution_count": 14,
   "metadata": {
    "slideshow": {
     "slide_type": "fragment"
    }
   },
   "outputs": [],
   "source": [
    "C = Diagonal{Float64}(I, N)\n",
    "W = zeros(N, λ)\n",
    "s = zeros(N)\n",
    "s_σ = zeros(N)\n",
    "σ = 1.0\n",
    "E = zeros(N, λ);"
   ]
  },
  {
   "cell_type": "markdown",
   "metadata": {
    "slideshow": {
     "slide_type": "slide"
    }
   },
   "source": [
    "Step 1: We calculate the offspring distribution $\\mathbf{w}$ then center it at the center-of-mass individual $\\mathbf{y}$."
   ]
  },
  {
   "cell_type": "markdown",
   "metadata": {
    "slideshow": {
     "slide_type": "fragment"
    }
   },
   "source": [
    "$\\mbox{(L1):} \\quad \n",
    "  \\forall l=1, \\ldots, \\lambda : \\;\\;\n",
    "  \\begin{cases}\n",
    "   & \\mathbf{w}_l \n",
    "          \\leftarrow \\sigma \\sqrt{ \\mathbf{C} } \\,\n",
    "          \\mathbf{N}_l(\\mathbf{0}, \\mathbf{1}),\\\\[2mm]\n",
    "   & \\mathbf{y}_l \\leftarrow \\mathbf{y}  + \\mathbf{w}_l, \\\\[2mm]\n",
    "   & F_l \\leftarrow F(\\mathbf{y}_l),\n",
    "  \\end{cases}$"
   ]
  },
  {
   "cell_type": "code",
   "execution_count": 15,
   "metadata": {
    "slideshow": {
     "slide_type": "fragment"
    }
   },
   "outputs": [
    {
     "data": {
      "text/plain": [
       "2×2 Diagonal{Float64, Vector{Float64}}:\n",
       " 1.0   ⋅ \n",
       "  ⋅   1.0"
      ]
     },
     "execution_count": 15,
     "metadata": {},
     "output_type": "execute_result"
    }
   ],
   "source": [
    "sqrt_c = cholesky((C + C') / 2.0).U"
   ]
  },
  {
   "cell_type": "markdown",
   "metadata": {
    "slideshow": {
     "slide_type": "fragment"
    }
   },
   "source": [
    "Note that our $\\mathbf{C}$ covariance matrix is currently 1, so this first distribution will just be a normal distribution without any transformation. We will then evaluate every individual."
   ]
  },
  {
   "cell_type": "code",
   "execution_count": 17,
   "metadata": {
    "slideshow": {
     "slide_type": "slide"
    }
   },
   "outputs": [],
   "source": [
    "for i in 1:λ\n",
    "    E[:,i] = randn(N) # individual\n",
    "    W[:,i] = σ * (sqrt_c * E[:,i]) # deviation from expert\n",
    "    offspring[i] = y + W[:,i] # new individual\n",
    "    F[i] = objective(offspring[i]) # its fitness\n",
    "end"
   ]
  },
  {
   "cell_type": "markdown",
   "metadata": {
    "slideshow": {
     "slide_type": "fragment"
    }
   },
   "source": [
    "Now that we have evaluated the individuals, we will select a subset of them to inform the next generation. We'll simply use a truncation selection, taking the top $\\mu$ individuals."
   ]
  },
  {
   "cell_type": "code",
   "execution_count": 18,
   "metadata": {
    "slideshow": {
     "slide_type": "fragment"
    }
   },
   "outputs": [
    {
     "data": {
      "text/plain": [
       "5-element Vector{Int64}:\n",
       "  4\n",
       "  5\n",
       "  8\n",
       "  2\n",
       " 10"
      ]
     },
     "execution_count": 18,
     "metadata": {},
     "output_type": "execute_result"
    }
   ],
   "source": [
    "idx = sortperm(F)[1:μ]"
   ]
  },
  {
   "cell_type": "markdown",
   "metadata": {
    "slideshow": {
     "slide_type": "slide"
    }
   },
   "source": [
    "Now step 2. We update $\\mathbf{y}$ using the top $\\mu$ individuals in $\\mathbf{w}$"
   ]
  },
  {
   "cell_type": "markdown",
   "metadata": {
    "slideshow": {
     "slide_type": "fragment"
    }
   },
   "source": [
    "$\\mbox{(L2):} \\quad \n",
    "      \\mathbf{y} \\leftarrow \\mathbf{y} + \\langle \\mathbf{w} \\rangle$"
   ]
  },
  {
   "cell_type": "code",
   "execution_count": 19,
   "metadata": {
    "slideshow": {
     "slide_type": "fragment"
    }
   },
   "outputs": [
    {
     "data": {
      "text/plain": [
       "2-element Vector{Float64}:\n",
       " 2.0251985021201984\n",
       " 0.8488527046014939"
      ]
     },
     "execution_count": 19,
     "metadata": {},
     "output_type": "execute_result"
    }
   ],
   "source": [
    "w = vec(mean(W[:,idx], dims=2))\n",
    "y += w"
   ]
  },
  {
   "cell_type": "markdown",
   "metadata": {
    "slideshow": {
     "slide_type": "slide"
    }
   },
   "source": [
    "In step 3, we update the direction vector $\\mathbf{s}$."
   ]
  },
  {
   "cell_type": "markdown",
   "metadata": {
    "slideshow": {
     "slide_type": "fragment"
    }
   },
   "source": [
    "$\\mbox{(L3):} \\quad \n",
    "            \\mathbf{s} \\leftarrow \\left(1-\\frac{1}{\\tau}\\right)\\mathbf{s}\n",
    "          + \\sqrt{\\frac{\\mu}{\\tau} \\left(2-\\frac{1}{\\tau}\\right)} \\,\n",
    "            \\frac{\\langle \\mathbf{w} \\rangle}{\\sigma}$"
   ]
  },
  {
   "cell_type": "code",
   "execution_count": 20,
   "metadata": {
    "slideshow": {
     "slide_type": "fragment"
    }
   },
   "outputs": [
    {
     "data": {
      "text/plain": [
       "2-element Vector{Float64}:\n",
       "  2.461580685119329\n",
       " -0.539466109224132"
      ]
     },
     "execution_count": 20,
     "metadata": {},
     "output_type": "execute_result"
    }
   ],
   "source": [
    "s = (1.0 - 1.0/τ)*s + (sqrt(μ/τ * (2.0 - 1.0/τ))/σ)*w"
   ]
  },
  {
   "cell_type": "markdown",
   "metadata": {
    "slideshow": {
     "slide_type": "fragment"
    }
   },
   "source": [
    "Next we update our covariance matrix $\\mathbf{C}$. Note that it will no longer be a diagonal matrix: our next update will use a transformed distribution to generate the population."
   ]
  },
  {
   "cell_type": "markdown",
   "metadata": {
    "slideshow": {
     "slide_type": "slide"
    }
   },
   "source": [
    "$\\mbox{(L4):} \\quad \n",
    "      \\mathbf{C} \\leftarrow \n",
    "      \\left(1-\\frac{1}{\\tau_{\\mathrm{c}}}\\right)\\mathbf{C}\n",
    "              + \\frac{1}{\\tau_{\\mathrm{c}}} \\mathbf{s} \\mathbf{s}^T$"
   ]
  },
  {
   "cell_type": "code",
   "execution_count": 21,
   "metadata": {
    "slideshow": {
     "slide_type": "fragment"
    }
   },
   "outputs": [
    {
     "data": {
      "text/plain": [
       "2×2 Matrix{Float64}:\n",
       "  2.26484   -0.331985\n",
       " -0.331985   0.822756"
      ]
     },
     "execution_count": 21,
     "metadata": {},
     "output_type": "execute_result"
    }
   ],
   "source": [
    "C = (1.0 - 1.0/τ_c).*C + (s./τ_c)*s'"
   ]
  },
  {
   "cell_type": "markdown",
   "metadata": {
    "slideshow": {
     "slide_type": "slide"
    }
   },
   "source": [
    "Finally, we update the $\\sigma$, which is the standard deviation of the distribution we generate in the first step. Note that its initial value was `1.0`."
   ]
  },
  {
   "cell_type": "markdown",
   "metadata": {
    "slideshow": {
     "slide_type": "fragment"
    }
   },
   "source": [
    "$\\mbox{(L5):} \\quad  \n",
    "       \\mathbf{s}_\\sigma\n",
    "       \\leftarrow \\left(1-\\frac{1}{\\tau_\\sigma}\\right) \\mathbf{s}_\\sigma\n",
    "                  + \\sqrt{\\frac{\\mu}{\\tau_\\sigma}\n",
    "                    \\left(2-\\frac{1}{\\tau_\\sigma}\\right)} \\,\n",
    "                      \\langle \\mathbf{N}(\\mathbf{0}, \\mathbf{1}) \\rangle$"
   ]
  },
  {
   "cell_type": "markdown",
   "metadata": {
    "slideshow": {
     "slide_type": "fragment"
    }
   },
   "source": [
    "$\\mbox{(L6):} \\quad  \n",
    "      \\sigma \\leftarrow \\sigma\\exp\\left[\n",
    "                        \\frac{\\| \\mathbf{s}_{\\sigma} \\|^2 - n}\n",
    "                                   {2 n \\sqrt{n} }\n",
    "                                        \\right]$"
   ]
  },
  {
   "cell_type": "code",
   "execution_count": 22,
   "metadata": {
    "slideshow": {
     "slide_type": "fragment"
    }
   },
   "outputs": [
    {
     "data": {
      "text/plain": [
       "2.1577152181348427"
      ]
     },
     "execution_count": 22,
     "metadata": {},
     "output_type": "execute_result"
    }
   ],
   "source": [
    "ɛ = vec(mean(E[:,idx], dims=2))\n",
    "s_σ = (1.0 - 1.0/τ_σ)*s_σ + sqrt(μ/τ_σ*(2.0 - 1.0/τ_σ))*ɛ\n",
    "σ = σ*exp(((s_σ'*s_σ)[1] - N)/(2*N*sqrt(N)))"
   ]
  },
  {
   "cell_type": "markdown",
   "metadata": {
    "slideshow": {
     "slide_type": "fragment"
    }
   },
   "source": [
    "That's a lot! Let's put it all together in an object and see how it runs over multiple iterations."
   ]
  },
  {
   "cell_type": "code",
   "execution_count": 23,
   "metadata": {
    "slideshow": {
     "slide_type": "slide"
    }
   },
   "outputs": [],
   "source": [
    "mutable struct CMAES\n",
    "    N::Int\n",
    "    μ::Int\n",
    "    λ::Int\n",
    "    τ::Float64 # constante de temps de mise à jour de s\n",
    "    τ_c::Float64\n",
    "    τ_σ::Float64\n",
    "    population::Array{Array{Float64}}\n",
    "    offspring::Array{Array{Float64}}\n",
    "    F_μ::Array{Float64}\n",
    "    F_λ::Array{Float64}\n",
    "    C::Array{Float64}\n",
    "    s::Array{Float64}\n",
    "    s_σ::Array{Float64}\n",
    "    σ::Float64\n",
    "    E::Array{Float64}\n",
    "    W::Array{Float64}\n",
    "    x::Array{Float64}\n",
    "end"
   ]
  },
  {
   "cell_type": "code",
   "execution_count": 26,
   "metadata": {
    "slideshow": {
     "slide_type": "slide"
    }
   },
   "outputs": [
    {
     "data": {
      "text/plain": [
       "CMAES"
      ]
     },
     "execution_count": 26,
     "metadata": {},
     "output_type": "execute_result"
    }
   ],
   "source": [
    "function CMAES(;N=2, λ=10, μ=1, τ=sqrt(N), τ_c=N^2, τ_σ=sqrt(N))\n",
    "    x = randn(N)\n",
    "    population = fill(x, µ)\n",
    "    offspring = Array{Array{Float64}}(undef, λ)\n",
    "    F_µ = Inf .* ones(µ)\n",
    "    F_λ = Inf .* ones(λ)\n",
    "    C = Array(Diagonal{Float64}(I, N))\n",
    "    s = zeros(N)\n",
    "    s_σ = zeros(N)\n",
    "    σ = 1.0\n",
    "    E = zeros(N, λ)\n",
    "    W = zeros(N, λ);\n",
    "    CMAES(N, μ, λ, τ, τ_c, τ_σ, population, offspring, F_µ, F_λ, C, s, s_σ, σ, E, W, x)\n",
    "end"
   ]
  },
  {
   "cell_type": "code",
   "execution_count": 27,
   "metadata": {
    "scrolled": true,
    "slideshow": {
     "slide_type": "fragment"
    }
   },
   "outputs": [
    {
     "data": {
      "text/plain": [
       "CMAES(2, 1, 10, 1.4142135623730951, 4.0, 1.4142135623730951, Array{Float64, N} where N[[-0.26575229689170016, 1.0510854124843356]], Array{Float64, N} where N[#undef, #undef, #undef, #undef, #undef, #undef, #undef, #undef, #undef, #undef], [Inf], [Inf, Inf, Inf, Inf, Inf, Inf, Inf, Inf, Inf, Inf], [1.0 0.0; 0.0 1.0], [0.0, 0.0], [0.0, 0.0], 1.0, [0.0 0.0 … 0.0 0.0; 0.0 0.0 … 0.0 0.0], [0.0 0.0 … 0.0 0.0; 0.0 0.0 … 0.0 0.0], [-0.26575229689170016, 1.0510854124843356])"
      ]
     },
     "execution_count": 27,
     "metadata": {},
     "output_type": "execute_result"
    }
   ],
   "source": [
    "c = CMAES()"
   ]
  },
  {
   "cell_type": "code",
   "execution_count": 29,
   "metadata": {
    "slideshow": {
     "slide_type": "slide"
    }
   },
   "outputs": [
    {
     "data": {
      "text/plain": [
       "step! (generic function with 1 method)"
      ]
     },
     "execution_count": 29,
     "metadata": {},
     "output_type": "execute_result"
    }
   ],
   "source": [
    "function step!(c::CMAES; obj=objective, visualize=false, anim=Nothing)\n",
    "    # L1\n",
    "    sqrt_c = cholesky((c.C + c.C') / 2.0).U\n",
    "    for i in 1:c.λ\n",
    "        c.E[:,i] = randn(c.N)\n",
    "        c.W[:,i] = c.σ * (sqrt_c * c.E[:,i])\n",
    "        c.offspring[i] = c.x + c.W[:,i]\n",
    "        c.F_λ[i] = obj(c.offspring[i])\n",
    "    end    \n",
    "    # Select new parent population\n",
    "    idx = sortperm(c.F_λ)[1:c.μ]\n",
    "    for i in 1:c.μ\n",
    "        c.population[i] = c.offspring[idx[i]]\n",
    "        c.F_μ[i] = c.F_λ[idx[i]]\n",
    "    end    \n",
    "    # L2\n",
    "    w = vec(mean(c.W[:,idx], dims=2))\n",
    "    c.x += w    \n",
    "    # L3\n",
    "    c.s = (1.0 - 1.0/c.τ)*c.s + (sqrt(c.μ/c.τ * (2.0 - 1.0/c.τ))/c.σ)*w   \n",
    "    # L4\n",
    "    c.C = (1.0 - 1.0/c.τ_c).*c.C + (c.s./c.τ_c)*c.s'    \n",
    "    # L5\n",
    "    ɛ = vec(mean(c.E[:,idx], dims=2))\n",
    "    c.s_σ = (1.0 - 1.0/c.τ_σ)*c.s_σ + sqrt(c.μ/c.τ_σ*(2.0 - 1.0/c.τ_σ))*ɛ    \n",
    "    # L6\n",
    "    c.σ = c.σ*exp(((c.s_σ'*c.s_σ)[1] - c.N)/(2*c.N*sqrt(c.N)))\n",
    "    if visualize\n",
    "        plot(xs, ys, fz, st=:contour)\n",
    "        scatter!([c.offspring[i][1] for i in 1:λ], [c.offspring[i][2] for i in 1:λ], \n",
    "            xlims=(-5, 5), ylims=(-5, 5), legend=:none)\n",
    "        scatter!([c.x[1]], [c.x[2]], color=:black, marker=:rect,\n",
    "            xlims=(-5, 5), ylims=(-5, 5), legend=:none)\n",
    "        frame(anim)\n",
    "    end\n",
    "    c\n",
    "end"
   ]
  },
  {
   "cell_type": "code",
   "execution_count": 77,
   "metadata": {
    "slideshow": {
     "slide_type": "slide"
    }
   },
   "outputs": [
    {
     "data": {
      "text/plain": [
       "plot_obj (generic function with 1 method)"
      ]
     },
     "execution_count": 77,
     "metadata": {},
     "output_type": "execute_result"
    }
   ],
   "source": [
    "function plot_obj()\n",
    "    c = CMAES(;λ=30, μ=6)\n",
    "    println(\"x initial: \", c.x)\n",
    "    anim = Animation()\n",
    "    for i in 1:100\n",
    "        v = mod(i, 1) == 0\n",
    "        step!(c, visualize=v, anim=anim)\n",
    "    end\n",
    "    println(\"x final: \", c.x)\n",
    "    anim\n",
    "end"
   ]
  },
  {
   "cell_type": "code",
   "execution_count": 79,
   "metadata": {
    "slideshow": {
     "slide_type": "slide"
    }
   },
   "outputs": [
    {
     "name": "stdout",
     "output_type": "stream",
     "text": [
      "[3.5, -0.2]\n",
      "x initial: [-0.46912428137493245, -1.5017637650839124]\n",
      "x final: [3.4999999997463416, -0.2000000014007772]\n"
     ]
    },
    {
     "name": "stderr",
     "output_type": "stream",
     "text": [
      "┌ Info: Saved animation to \n",
      "│   fn = C:\\Users\\Test\\Google Drive\\Etudes\\Supaero\\2A\\AlgoEvo\\evolution\\5_strategies\\tmp.gif\n",
      "└ @ Plots C:\\Users\\Test\\.julia\\packages\\Plots\\8GUYs\\src\\animation.jl:102\n"
     ]
    },
    {
     "data": {
      "text/html": [
       "<img src=\"data:image/gif;base64,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\" />"
      ],
      "text/plain": [
       "Plots.AnimatedGif(\"C:\\\\Users\\\\Test\\\\Google Drive\\\\Etudes\\\\Supaero\\\\2A\\\\AlgoEvo\\\\evolution\\\\5_strategies\\\\tmp.gif\")"
      ]
     },
     "execution_count": 79,
     "metadata": {},
     "output_type": "execute_result"
    }
   ],
   "source": [
    "xs = -5.0:0.1:5.0\n",
    "ys = -5.0:0.1:5.0\n",
    "\n",
    "objective = rastrigin # sphere, himmelblau, styblinski_tang, rastrigin\n",
    "fz(x, y) = objective([x, y])\n",
    "println(solution) # optimal for sphere and rastrigin\n",
    "anim = plot_obj()\n",
    "gif(anim)"
   ]
  },
  {
   "cell_type": "code",
   "execution_count": null,
   "metadata": {},
   "outputs": [],
   "source": [
    "using FFMPEG\n",
    "fn = \"tmp.gif\"\n",
    "animdir = anim.dir\n",
    "palette=\"palettegen=stats_mode=single[pal],[0:v][pal]paletteuse=new=1\"\n",
    "#ffmpeg_exe(`ffmpeg -v 16 -framerate $fps -i $(anim.dir)/%06d.png -lavfi \"$palette\" -loop 0 -y $fn`)\n",
    "run(`ffmpeg -v 16 -framerate 20 -i $(anim.dir)/%06d.png -lavfi \"$palette\" -loop 0 -y $fn`)\n",
    "Plots.AnimatedGif(fn)"
   ]
  },
  {
   "cell_type": "markdown",
   "metadata": {
    "slideshow": {
     "slide_type": "slide"
    }
   },
   "source": [
    "<div class=\"alert alert-success\">\n",
    "    <b>Exercise</b>\n",
    "    <br/>\n",
    "    Modify the parent population size and child population of the problem. Can you get CMA-ES to reliably converge on the Rastrigin function? What about for higer dimensions of $n$? Report your $\\mu$ and $\\lambda$ values in the class chat.\n",
    "</div>    "
   ]
  },
  {
   "cell_type": "markdown",
   "metadata": {
    "slideshow": {
     "slide_type": "slide"
    }
   },
   "source": [
    "# Breaking down CMA-ES"
   ]
  },
  {
   "cell_type": "markdown",
   "metadata": {
    "slideshow": {
     "slide_type": "slide"
    }
   },
   "source": [
    "<img src=\"../imgs/cmaes_steps.png\" width=\"80%\" height=\"auto\">"
   ]
  },
  {
   "cell_type": "markdown",
   "metadata": {},
   "source": [
    "As noted, CMA-ES is a combination of different improvements to evolutionary strategies. [Recent study](https://arxiv.org/pdf/1802.08842.pdf) has shown that evolutionary strategies can scale well to problems of many dimensions by using some of these improvements (rank-based fitness) while leaving out others which are $O(n^2)$ (the covariance matrix)."
   ]
  },
  {
   "cell_type": "markdown",
   "metadata": {},
   "source": [
    "<div class=\"alert alert-success\">\n",
    "    <b>Exercise</b>\n",
    "    <br/>\n",
    "    Adapt the $(1,\\lambda)$ Evolutionary Strategy to include rank-based fitness. You may use the code from CMA-ES above. Compare the results on the 4 provided fitness functions.\n",
    "    <div>    "
   ]
  },
  {
   "cell_type": "code",
   "execution_count": null,
   "metadata": {},
   "outputs": [],
   "source": [
    "xs = -5.0:0.1:5.0\n",
    "ys = -5.0:0.1:5.0\n",
    "fz(x, y) = objective([x, y]);\n",
    "\n",
    "function step(x::Array{Float64}; npop=50, sigma=0.1, alpha=0.01, visualize=false, anim=Nothing)\n",
    "    N = randn(npop, 2)\n",
    "    P = repeat(x, 1, npop)' .+ sigma .* N\n",
    "    R = zeros(npop)\n",
    "    for i in eachindex(R)\n",
    "        R[i] = objective(P[i, :])\n",
    "    end\n",
    "    A = (R .- mean(R)) ./ std(R)\n",
    "    \n",
    "    if visualize\n",
    "        plot(xs, ys, fz, st=:contour)\n",
    "        scatter!(P[:, 1], P[:, 2], xlims=(-5, 5), ylims=(-5, 5), zcolor=R)\n",
    "        scatter!([x[1]], [x[2]], legend=:none, color=:black, marker=:rect)\n",
    "        frame(anim)\n",
    "    end\n",
    "    \n",
    "    x .+ alpha/(npop * sigma) .* [dot(N[:, i], A) for i in 1:size(N, 2)]\n",
    "end\n",
    "\n",
    "function plot_obj()\n",
    "    x = randn(2)\n",
    "    println(\"x initial: \", x)\n",
    "    anim = Animation()\n",
    "    for i in 1:500\n",
    "        v = mod(i, 10) == 0\n",
    "        x = step(x, npop=30, sigma=0.5, alpha=0.06, visualize=v, anim=anim)\n",
    "    end\n",
    "    anim\n",
    "end\n",
    "\n",
    "objective = rastrigin # sphere, himmelblau, styblinski_tang, rastrigin\n",
    "anim = plot_obj()\n",
    "gif(anim)"
   ]
  }
 ],
 "metadata": {
  "@webio": {
   "lastCommId": null,
   "lastKernelId": null
  },
  "celltoolbar": "Slideshow",
  "kernelspec": {
   "display_name": "Julia 1.6.1",
   "language": "julia",
   "name": "julia-1.6"
  },
  "language_info": {
   "file_extension": ".jl",
   "mimetype": "application/julia",
   "name": "julia",
   "version": "1.6.1"
  }
 },
 "nbformat": 4,
 "nbformat_minor": 2
}
